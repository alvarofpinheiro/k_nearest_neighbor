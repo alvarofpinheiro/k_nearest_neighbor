{
  "nbformat": 4,
  "nbformat_minor": 0,
  "metadata": {
    "colab": {
      "name": "Simulacao1_Cenario2_KNN.ipynb",
      "provenance": [],
      "collapsed_sections": [],
      "include_colab_link": true
    },
    "kernelspec": {
      "name": "python3",
      "display_name": "Python 3"
    }
  },
  "cells": [
    {
      "cell_type": "markdown",
      "metadata": {
        "id": "view-in-github",
        "colab_type": "text"
      },
      "source": [
        "<a href=\"https://colab.research.google.com/github/alvarofpinheiro/k_nearest_neighbor/blob/main/Simulacao1_Cenario2_KNN.ipynb\" target=\"_parent\"><img src=\"https://colab.research.google.com/assets/colab-badge.svg\" alt=\"Open In Colab\"/></a>"
      ]
    },
    {
      "cell_type": "markdown",
      "source": [
        "K-Nearest Neighbors  (KNN): método K vizinhos mais próximos foi proposto por Fukunaga e Narendra em 1975, se tornando um dos algoritmos para solução de problemas da classe de classificação mais usados, pois possui uma abordagem simples de ser implementada, apesar que para grandes volumes de dados irá usar muito recursos de hardware devido a base de sua lógica que consiste no cálculo de distância, e essa é uma tarefa custosa para o hardware, consumindo muito tempo computacional, e é um método que depende no fator K, assim quanto maior, mais recurso de hardware será consumido.\n",
        "\n",
        "Fukunaga, K.; Narendra, P. A Branch and Bound Algorithm for Computing k-Nearest Neighbors.  IEEE Transactions on Computers Volume: C-24, Issue: 7. https://doi.org/10.1109/T-C.1975.224297, 1975.\n",
        "\n",
        "Explicação do algoritmo KNN: https://youtu.be/oafK8OGu_Vk"
      ],
      "metadata": {
        "id": "97Y89Kxv3WL1"
      }
    },
    {
      "cell_type": "code",
      "metadata": {
        "id": "0P6tBY50QOHR"
      },
      "source": [
        "#instalar biblioteca Orange Canvas\n",
        "!pip install Orange3"
      ],
      "execution_count": null,
      "outputs": []
    },
    {
      "cell_type": "code",
      "source": [
        "#importar biblioteca Orange Canvas\n",
        "import Orange"
      ],
      "metadata": {
        "id": "1MF20XTJ_Aa_"
      },
      "execution_count": null,
      "outputs": []
    },
    {
      "cell_type": "code",
      "source": [
        "#importar dados do disco local\n",
        "from google.colab import files  \n",
        "files.upload()"
      ],
      "metadata": {
        "id": "Ygu12JE_Afct"
      },
      "execution_count": null,
      "outputs": []
    },
    {
      "cell_type": "code",
      "source": [
        "#instanciar objeto de dados com base no caminho gerado com a importação do arquivo\n",
        "dados = Orange.data.Table(\"/content/simulacao1.csv\")"
      ],
      "metadata": {
        "id": "Uid5eSz5Fiwi"
      },
      "execution_count": null,
      "outputs": []
    },
    {
      "cell_type": "code",
      "source": [
        "#exibir os primeiros 5 registros para uma rápida análise da importação dos dados\n",
        "for d in dados[:5]:\n",
        "  print(d)"
      ],
      "metadata": {
        "id": "ar06vvffknDu"
      },
      "execution_count": null,
      "outputs": []
    },
    {
      "cell_type": "code",
      "source": [
        "#explorar os metadados da base de dados importada\n",
        "qtde_campos = len(dados.domain.attributes)\n",
        "qtde_cont = sum(1 for a in dados.domain.attributes if a.is_continuous)\n",
        "qtde_disc = sum(1 for a in dados.domain.attributes if a.is_discrete)\n",
        "print(\"%d metadados: %d continuos, %d discretos\" % (qtde_campos, qtde_cont, qtde_disc))\n",
        "print(\"Nome dos metadados:\", \", \".join(dados.domain.attributes[i].name for i in range(qtde_campos)),)"
      ],
      "metadata": {
        "id": "H5nbZkd6rDHS"
      },
      "execution_count": null,
      "outputs": []
    },
    {
      "cell_type": "code",
      "source": [
        "#explorar domínios dos atributos (campos da base de dados)\n",
        "dados.domain.attributes"
      ],
      "metadata": {
        "id": "J5VmTPgks2w5"
      },
      "execution_count": null,
      "outputs": []
    },
    {
      "cell_type": "code",
      "source": [
        "#explorar as classes da base de dados\n",
        "dados.domain.class_var"
      ],
      "metadata": {
        "id": "I3P5bR1Bts-m"
      },
      "execution_count": null,
      "outputs": []
    },
    {
      "cell_type": "code",
      "source": [
        "#explorar dados (quantidade de campos e registros da base de dados)\n",
        "print(\"Campos:\", \", \".join(c.name for c in dados.domain.attributes))\n",
        "qtde100 = len(dados)\n",
        "qtde70 = len(dados) * 70 / 100\n",
        "qtde30 = len(dados) * 30 / 100\n",
        "print(\"Qtde 100%:\", qtde100)\n",
        "print(\"Qtde  70%:\", qtde70)\n",
        "print(\"Qtde  30%:\", qtde30)\n",
        "amostra = Orange.data.Table(dados.domain, [d for d in dados if d.row_index < qtde70])\n",
        "print(\"Registros:\", len(dados))\n",
        "print(\"Registros:\", len(amostra))"
      ],
      "metadata": {
        "id": "g36bj2VTuNXm"
      },
      "execution_count": null,
      "outputs": []
    },
    {
      "cell_type": "markdown",
      "source": [
        "**Hiperparâmetros do K-Nearest Neighbors**\n",
        "\n",
        "n_neighbors: valor correspondente a quantidade de vizinhos mais próximos.\n",
        "\n",
        "metric: métrica a ser utilizada para cálculo da distância com o default sendo a euclidiana.\n",
        "\n",
        "weights: determina se o peso será distance onde os vizinhos mais próximos têm influência maior, ou se uniform onde todos os pontos em cada vizinhança são ponderados igualmente.\n",
        "\n",
        "preprocessors: é usado o pré-processamento padrão quando nenhum outro pré-processador é fornecido. Ele os executa na seguinte ordem: remove instâncias com valores de destino desconhecidos; continua variáveis categóricas (com codificação one-hot); remove colunas vazias; imputa valores ausentes com valores médios."
      ],
      "metadata": {
        "id": "5ibfUcE-8Kuh"
      }
    },
    {
      "cell_type": "code",
      "source": [
        "#inicializar a instância com os seus hiperparâmetros para a técnica KNN Cenário1\n",
        "knn = Orange.classification.KNNLearner(\n",
        "    n_neighbors=5, \n",
        "    metric='euclidean', \n",
        "    weights='distance', \n",
        "    algorithm='auto', \n",
        "    metric_params=None, \n",
        "    preprocessors=None)"
      ],
      "metadata": {
        "id": "SoraOTn4KKkp"
      },
      "execution_count": null,
      "outputs": []
    },
    {
      "cell_type": "code",
      "source": [
        "#ligar técnica KNN com os dados da simulação\n",
        "dados_knn = knn(dados)"
      ],
      "metadata": {
        "id": "VWRbVdmEK_CT"
      },
      "execution_count": null,
      "outputs": []
    },
    {
      "cell_type": "code",
      "source": [
        "#treinar e testar técnica KNN com os dados com 5 partes (folders)\n",
        "avalia_knn = Orange.evaluation.CrossValidation(dados, [knn], k=5)"
      ],
      "metadata": {
        "id": "vILOIZXJSwKA"
      },
      "execution_count": null,
      "outputs": []
    },
    {
      "cell_type": "code",
      "source": [
        "#avaliar os indicadores para o KNN com base nas métricas de classificação\n",
        "print(\"Acurácia:  %.3f\" % Orange.evaluation.scoring.CA(avalia_knn)[0])\n",
        "print(\"Precisão:  %.3f\" % Orange.evaluation.scoring.Precision(avalia_knn)[0])\n",
        "print(\"Revocação: %.3f\" % Orange.evaluation.scoring.Recall(avalia_knn)[0])\n",
        "print(\"F1:        %.3f\" % Orange.evaluation.scoring.F1(avalia_knn)[0])\n",
        "print(\"ROC:       %.3f\" % Orange.evaluation.scoring.AUC(avalia_knn)[0])"
      ],
      "metadata": {
        "id": "_6tpW957S0O9"
      },
      "execution_count": null,
      "outputs": []
    },
    {
      "cell_type": "code",
      "source": [
        "#inicializar a instância com os seus hiperparâmetros para a técnica Support Vector Machine (SVM) Cenário2\n",
        "svm = Orange.classification.SVMLearner(\n",
        "    C=1.0, \n",
        "    kernel='rbf', \n",
        "    degree=3, \n",
        "    gamma='auto', \n",
        "    coef0=0.0, \n",
        "    shrinking=True, \n",
        "    probability=False, \n",
        "    tol=0.001, \n",
        "    cache_size=2000, \n",
        "    max_iter=-1, \n",
        "    preprocessors=None)"
      ],
      "metadata": {
        "id": "RbAJ44FgLM00"
      },
      "execution_count": null,
      "outputs": []
    },
    {
      "cell_type": "code",
      "source": [
        "#inicializar a instância com os seus hiperparâmetros para a técnica Random Forest (RF) Cenário3\n",
        "rf = Orange.classification.RandomForestLearner(\n",
        "    n_estimators=10, \n",
        "    criterion='gini', \n",
        "    max_depth=None, \n",
        "    min_samples_split=2, \n",
        "    min_samples_leaf=1, \n",
        "    min_weight_fraction_leaf=0.0, \n",
        "    max_features='auto', \n",
        "    max_leaf_nodes=None, \n",
        "    bootstrap=True, \n",
        "    oob_score=False, \n",
        "    n_jobs=1, \n",
        "    random_state=None, \n",
        "    verbose=0, \n",
        "    class_weight=None, \n",
        "    preprocessors=None)"
      ],
      "metadata": {
        "id": "8MtQFD6qMfdH"
      },
      "execution_count": null,
      "outputs": []
    },
    {
      "cell_type": "code",
      "source": [
        "#validar o aprendizado para as 3 técnicas\n",
        "aprendizado = [knn, svm, rf]\n",
        "avaliacao = Orange.evaluation.CrossValidation(dados, aprendizado, k=5)"
      ],
      "metadata": {
        "id": "ihR-hUDCazin"
      },
      "execution_count": null,
      "outputs": []
    },
    {
      "cell_type": "code",
      "source": [
        "#imprimir os indicadores para as 3 técnicas\n",
        "print(\" \" * 10 + \" | \".join(\"%-4s\" % learner.name for learner in aprendizado))\n",
        "print(\"Acurácia  %s\" % \" | \".join(\"%.2f\" % s for s in Orange.evaluation.CA(avaliacao)))\n",
        "print(\"Precisão  %s\" % \" | \".join(\"%.2f\" % s for s in Orange.evaluation.Precision(avaliacao)))\n",
        "print(\"Revocação %s\" % \" | \".join(\"%.2f\" % s for s in Orange.evaluation.Recall(avaliacao)))\n",
        "print(\"F1        %s\" % \" | \".join(\"%.2f\" % s for s in Orange.evaluation.F1(avaliacao)))\n",
        "print(\"ROC       %s\" % \" | \".join(\"%.2f\" % s for s in Orange.evaluation.AUC(avaliacao)))"
      ],
      "metadata": {
        "id": "MQn6ppBIfamY"
      },
      "execution_count": null,
      "outputs": []
    }
  ]
}